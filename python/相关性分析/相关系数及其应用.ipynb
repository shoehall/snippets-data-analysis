{
 "cells": [
  {
   "cell_type": "markdown",
   "metadata": {
    "collapsed": true,
    "pycharm": {
     "name": "#%% md\n"
    }
   },
   "source": [
    "相关系数是最简单和常用的相关性分析指标。但适用场景很关键。"
   ]
  },
  {
   "cell_type": "markdown",
   "source": [
    "场景：\n",
    "- 排名相关性\n",
    "我最近在关注商品的综合排名算法，我想看下综合排名最高的商品和它的哪些指标相关性比较高。\n",
    "\n",
    "- 两个连续特征之间的相关\n",
    "\n",
    "\n"
   ],
   "metadata": {
    "collapsed": false,
    "pycharm": {
     "name": "#%% md\n"
    }
   }
  }
 ],
 "metadata": {
  "kernelspec": {
   "display_name": "Python 3",
   "language": "python",
   "name": "python3"
  },
  "language_info": {
   "codemirror_mode": {
    "name": "ipython",
    "version": 2
   },
   "file_extension": ".py",
   "mimetype": "text/x-python",
   "name": "python",
   "nbconvert_exporter": "python",
   "pygments_lexer": "ipython2",
   "version": "2.7.6"
  }
 },
 "nbformat": 4,
 "nbformat_minor": 0
}